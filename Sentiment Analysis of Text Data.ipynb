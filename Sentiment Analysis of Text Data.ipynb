{
 "cells": [
  {
   "cell_type": "markdown",
   "metadata": {},
   "source": [
    "# PROJECT: Machine Learning"
   ]
  },
  {
   "cell_type": "markdown",
   "metadata": {},
   "source": [
    "Download the dataset from this link:\n",
    "https://www.crowdflower.com/wp-content/uploads/2016/03/GOP_REL_ONLY.csv\n",
    "The dataset contains tweets from a political debate in America in August 2015. Train a classifier to predict the sentiment (positive, negative, neutral) of the tweets."
   ]
  },
  {
   "cell_type": "markdown",
   "metadata": {},
   "source": [
    "# General idea"
   ]
  },
  {
   "cell_type": "markdown",
   "metadata": {},
   "source": [
    "following the pipeline of \"data preprocessing - feature selecting - experiment realizing\",make predictions on the category of tweets.<p>\n",
    "<font color=black size=5 face=\"times new roman\">1.Data preprocessing:<p>\n",
    "    <font color=black size=4.6 face=\"times new roman\">1) Cleaning<br />\n",
    "    <font color=black size=3 face=\"times new roman\">       • Remove URLs<br />\n",
    "        • Remove usernames (mentions)<br />\n",
    "        • Remove tweets with Not Available text<br />\n",
    "        • Remove special characters<br />\n",
    "        • Remove numbers<br />\n",
    "        • Remove \"RT\"s<br />\n",
    "        •Change it into lower case<p>\n",
    "    <font color=black size=4.8 face=\"times new roman\">2) Text processing<br />\n",
    "       <font color=black size=3 face=\"times new roman\"> • Tokenize<br />\n",
    "        • Stemming<br />\n",
    "        • Stemming<p>\n",
    "    <font color=black size=4.9 face=\"times new roman\">3) Build word list for Bag-of-Words<br />\n",
    "        <br />\n",
    "<font color=black size=5 face=\"times new roman\">2.feature selecting: Add some other features which may influence the sentiments.<br />\n",
    "    <br />\n",
    "<font color=black size=5 face=\"times new roman\">3.experiment realizing: experiment on models including<br />\n",
    "        <font color=black size=4 face=\"times new roman\">• Naive Bayes<br />\n",
    "        • Random Forest<br />\n",
    "        • XGboost<br />"
   ]
  },
  {
   "cell_type": "markdown",
   "metadata": {},
   "source": [
    "## Import  Libraries"
   ]
  },
  {
   "cell_type": "code",
   "execution_count": 1,
   "metadata": {},
   "outputs": [],
   "source": [
    "import pandas as pd\n",
    "import numpy as np\n",
    "from collections import Counter\n",
    "import nltk\n",
    "import pandas as pd\n",
    "\n",
    "import re as regex\n",
    "import numpy as np\n",
    "\n",
    "\n",
    "from sklearn.metrics import f1_score, precision_score, recall_score, accuracy_score\n",
    "from sklearn.model_selection import train_test_split, cross_val_score, GridSearchCV, RandomizedSearchCV\n",
    "from time import time\n",
    "import matplotlib.pyplot as plt\n",
    "%matplotlib inline\n",
    "\n",
    "import seaborn as sns\n",
    "import plotly\n",
    "import cufflinks as cf\n",
    "import re"
   ]
  },
  {
   "cell_type": "markdown",
   "metadata": {},
   "source": [
    "## Import the Data"
   ]
  },
  {
   "cell_type": "code",
   "execution_count": 2,
   "metadata": {},
   "outputs": [],
   "source": [
    "train_data = pd.read_csv('GOP_REL_ONLY.csv',encoding=\"unicode_escape\")\n",
    "#test_data = pd.read_csv('data/test.csv')\n",
    "train_data = train_data[train_data['sentiment:confidence'] > 0.6] \n",
    "train_data = train_data[['sentiment','text']]\n",
    "\n"
   ]
  },
  {
   "cell_type": "code",
   "execution_count": 3,
   "metadata": {},
   "outputs": [
    {
     "data": {
      "text/html": [
       "<div>\n",
       "<style scoped>\n",
       "    .dataframe tbody tr th:only-of-type {\n",
       "        vertical-align: middle;\n",
       "    }\n",
       "\n",
       "    .dataframe tbody tr th {\n",
       "        vertical-align: top;\n",
       "    }\n",
       "\n",
       "    .dataframe thead th {\n",
       "        text-align: right;\n",
       "    }\n",
       "</style>\n",
       "<table border=\"1\" class=\"dataframe\">\n",
       "  <thead>\n",
       "    <tr style=\"text-align: right;\">\n",
       "      <th></th>\n",
       "      <th>sentiment</th>\n",
       "      <th>text</th>\n",
       "    </tr>\n",
       "  </thead>\n",
       "  <tbody>\n",
       "    <tr>\n",
       "      <th>0</th>\n",
       "      <td>Neutral</td>\n",
       "      <td>RT @NancyLeeGrahn: How did everyone feel about...</td>\n",
       "    </tr>\n",
       "    <tr>\n",
       "      <th>1</th>\n",
       "      <td>Positive</td>\n",
       "      <td>RT @ScottWalker: Didn't catch the full #GOPdeb...</td>\n",
       "    </tr>\n",
       "    <tr>\n",
       "      <th>2</th>\n",
       "      <td>Neutral</td>\n",
       "      <td>RT @TJMShow: No mention of Tamir Rice and the ...</td>\n",
       "    </tr>\n",
       "    <tr>\n",
       "      <th>3</th>\n",
       "      <td>Positive</td>\n",
       "      <td>RT @RobGeorge: That Carly Fiorina is trending ...</td>\n",
       "    </tr>\n",
       "    <tr>\n",
       "      <th>4</th>\n",
       "      <td>Positive</td>\n",
       "      <td>RT @DanScavino: #GOPDebate w/ @realDonaldTrump...</td>\n",
       "    </tr>\n",
       "  </tbody>\n",
       "</table>\n",
       "</div>"
      ],
      "text/plain": [
       "  sentiment                                               text\n",
       "0   Neutral  RT @NancyLeeGrahn: How did everyone feel about...\n",
       "1  Positive  RT @ScottWalker: Didn't catch the full #GOPdeb...\n",
       "2   Neutral  RT @TJMShow: No mention of Tamir Rice and the ...\n",
       "3  Positive  RT @RobGeorge: That Carly Fiorina is trending ...\n",
       "4  Positive  RT @DanScavino: #GOPDebate w/ @realDonaldTrump..."
      ]
     },
     "execution_count": 3,
     "metadata": {},
     "output_type": "execute_result"
    }
   ],
   "source": [
    "train_data.head()"
   ]
  },
  {
   "cell_type": "code",
   "execution_count": 4,
   "metadata": {},
   "outputs": [
    {
     "name": "stdout",
     "output_type": "stream",
     "text": [
      "<class 'pandas.core.frame.DataFrame'>\n",
      "Int64Index: 12209 entries, 0 to 13870\n",
      "Data columns (total 2 columns):\n",
      "sentiment    12209 non-null object\n",
      "text         12209 non-null object\n",
      "dtypes: object(2)\n",
      "memory usage: 286.1+ KB\n"
     ]
    }
   ],
   "source": [
    "train_data.info()"
   ]
  },
  {
   "cell_type": "markdown",
   "metadata": {},
   "source": [
    "## Data visualization"
   ]
  },
  {
   "cell_type": "markdown",
   "metadata": {},
   "source": [
    "## Distribution of target class"
   ]
  },
  {
   "cell_type": "code",
   "execution_count": 5,
   "metadata": {},
   "outputs": [
    {
     "data": {
      "text/plain": [
       "<matplotlib.axes._subplots.AxesSubplot at 0x240f49145c0>"
      ]
     },
     "execution_count": 5,
     "metadata": {},
     "output_type": "execute_result"
    },
    {
     "data": {
      "image/png": "[encoded data removed]",
      "text/plain": [
       "<Figure size 432x288 with 1 Axes>"
      ]
     },
     "metadata": {
      "needs_background": "light"
     },
     "output_type": "display_data"
    }
   ],
   "source": [
    "sns.countplot(x='sentiment',data=train_data)"
   ]
  },
  {
   "cell_type": "markdown",
   "metadata": {},
   "source": [
    "# Preprocessing of Data"
   ]
  },
  {
   "cell_type": "markdown",
   "metadata": {},
   "source": [
    "<font color=black size=4 face=\"times new roman\">Data in the reality may be incomplete,counfusing,and performs in various forms. \n",
    "This provides the computer challenges to resolve it during the classification.<br />\n",
    "<mark style=background-color:yellow>Preprocessing </mark> transform raw data into an understandable format.<br /> \n",
    "Data preprocessing is a proven method of resolving such issues. <br />\n",
    "Data preprocessing prepares raw data for further processing.<br />\n",
    "The aim of the preprocessing is finally to get a <mark style=background-color:yellow>'bag of words'</mark> to represent the appearence of the words."
   ]
  },
  {
   "cell_type": "markdown",
   "metadata": {},
   "source": [
    "## Data Cleaning"
   ]
  },
  {
   "cell_type": "markdown",
   "metadata": {},
   "source": [
    "<font color=black size=4 face=\"times new roman\">Data Cleaning process makes data \"clean\",which basically including the removal of \"special cases\"."
   ]
  },
  {
   "cell_type": "markdown",
   "metadata": {},
   "source": [
    "<font color=black size=4 face=\"times new roman\">the function of Cleaning:<br />\n",
    "            • Remove URLs<br />\n",
    "            • Remove usernames (mentions)<br />\n",
    "            • Remove tweets with Not Available text<br />\n",
    "            • Remove special characters<br />\n",
    "            • Remove numbers<br />\n",
    "            • Remove \"RT\"s<br />\n",
    "            • Change it into lower case<br />\n"
   ]
  },
  {
   "cell_type": "code",
   "execution_count": 6,
   "metadata": {},
   "outputs": [],
   "source": [
    "def clean_tweets(tweet):\n",
    "    \n",
    "    # remove URL\n",
    "    tweet = re.sub(r\"http\\S+\", \"\", tweet)\n",
    "    \n",
    "    # Remove usernames\n",
    "    tweet = re.sub(r\"@[^\\s]+[\\s]?\",'',tweet)\n",
    "    \n",
    "    # remove special characters \n",
    "    tweet = re.sub('[^ a-zA-Z0-9]', '', tweet)\n",
    "    \n",
    "    # remove Numbers\n",
    "    tweet = re.sub('[0-9]', '', tweet)\n",
    "    \n",
    "    # remove RT\n",
    "    tweet = re.sub('RT', '', tweet) \n",
    "    \n",
    "    tweet = tweet.lower()\n",
    "    \n",
    "    return tweet\n",
    "\n"
   ]
  },
  {
   "cell_type": "code",
   "execution_count": 7,
   "metadata": {},
   "outputs": [],
   "source": [
    "# Apply function to Tweet column\n",
    "\n",
    "train_data['clean'] = train_data['text'].apply(clean_tweets)"
   ]
  },
  {
   "cell_type": "code",
   "execution_count": 8,
   "metadata": {},
   "outputs": [
    {
     "data": {
      "text/html": [
       "<div>\n",
       "<style scoped>\n",
       "    .dataframe tbody tr th:only-of-type {\n",
       "        vertical-align: middle;\n",
       "    }\n",
       "\n",
       "    .dataframe tbody tr th {\n",
       "        vertical-align: top;\n",
       "    }\n",
       "\n",
       "    .dataframe thead th {\n",
       "        text-align: right;\n",
       "    }\n",
       "</style>\n",
       "<table border=\"1\" class=\"dataframe\">\n",
       "  <thead>\n",
       "    <tr style=\"text-align: right;\">\n",
       "      <th></th>\n",
       "      <th>sentiment</th>\n",
       "      <th>text</th>\n",
       "      <th>clean</th>\n",
       "    </tr>\n",
       "  </thead>\n",
       "  <tbody>\n",
       "    <tr>\n",
       "      <th>0</th>\n",
       "      <td>Neutral</td>\n",
       "      <td>RT @NancyLeeGrahn: How did everyone feel about...</td>\n",
       "      <td>how did everyone feel about the climate chang...</td>\n",
       "    </tr>\n",
       "    <tr>\n",
       "      <th>1</th>\n",
       "      <td>Positive</td>\n",
       "      <td>RT @ScottWalker: Didn't catch the full #GOPdeb...</td>\n",
       "      <td>didnt catch the full gopdebate last night her...</td>\n",
       "    </tr>\n",
       "    <tr>\n",
       "      <th>2</th>\n",
       "      <td>Neutral</td>\n",
       "      <td>RT @TJMShow: No mention of Tamir Rice and the ...</td>\n",
       "      <td>no mention of tamir rice and the gopdebate wa...</td>\n",
       "    </tr>\n",
       "    <tr>\n",
       "      <th>3</th>\n",
       "      <td>Positive</td>\n",
       "      <td>RT @RobGeorge: That Carly Fiorina is trending ...</td>\n",
       "      <td>that carly fiorina is trending  hours after h...</td>\n",
       "    </tr>\n",
       "    <tr>\n",
       "      <th>4</th>\n",
       "      <td>Positive</td>\n",
       "      <td>RT @DanScavino: #GOPDebate w/ @realDonaldTrump...</td>\n",
       "      <td>gopdebate w delivered the highest ratings in ...</td>\n",
       "    </tr>\n",
       "  </tbody>\n",
       "</table>\n",
       "</div>"
      ],
      "text/plain": [
       "  sentiment                                               text  \\\n",
       "0   Neutral  RT @NancyLeeGrahn: How did everyone feel about...   \n",
       "1  Positive  RT @ScottWalker: Didn't catch the full #GOPdeb...   \n",
       "2   Neutral  RT @TJMShow: No mention of Tamir Rice and the ...   \n",
       "3  Positive  RT @RobGeorge: That Carly Fiorina is trending ...   \n",
       "4  Positive  RT @DanScavino: #GOPDebate w/ @realDonaldTrump...   \n",
       "\n",
       "                                               clean  \n",
       "0   how did everyone feel about the climate chang...  \n",
       "1   didnt catch the full gopdebate last night her...  \n",
       "2   no mention of tamir rice and the gopdebate wa...  \n",
       "3   that carly fiorina is trending  hours after h...  \n",
       "4   gopdebate w delivered the highest ratings in ...  "
      ]
     },
     "execution_count": 8,
     "metadata": {},
     "output_type": "execute_result"
    }
   ],
   "source": [
    "train_data.head()"
   ]
  },
  {
   "cell_type": "code",
   "execution_count": null,
   "metadata": {},
   "outputs": [],
   "source": []
  },
  {
   "cell_type": "markdown",
   "metadata": {},
   "source": [
    "## Tokenization, Stemming and Lemmatization"
   ]
  },
  {
   "cell_type": "markdown",
   "metadata": {},
   "source": [
    "• Tokenize:\n",
    "    Tokenization makes the full sentence into seperate words.\n",
    "• Stemming:\n",
    "    Stemming focuses on the stem of the words and can avoid spelling mistakes.\n",
    "    e.g: funnnnny → funny\n",
    "• Lemmatizing:\n",
    "    Lemmatization restores the words.\n",
    "    e.g: is/are/was → be"
   ]
  },
  {
   "cell_type": "code",
   "execution_count": 10,
   "metadata": {},
   "outputs": [],
   "source": [
    "from nltk.stem import PorterStemmer\n",
    "from nltk.tokenize import sent_tokenize, word_tokenize\n",
    "from nltk.stem import WordNetLemmatizer\n",
    "\n",
    "lemmatizer=WordNetLemmatizer()\n",
    "ps = PorterStemmer()"
   ]
  },
  {
   "cell_type": "code",
   "execution_count": 11,
   "metadata": {},
   "outputs": [],
   "source": [
    "def tokenize(text):\n",
    "    return word_tokenize(text)\n",
    "\n",
    "def stemming(words):\n",
    "    stem_words = []\n",
    "    for w in words:\n",
    "        w = ps.stem(w)\n",
    "        stem_words.append(w)\n",
    "    \n",
    "    return stem_words\n",
    "\n",
    "from nltk.corpus import wordnet\n",
    "from nltk import word_tokenize, pos_tag\n",
    "from nltk.stem import WordNetLemmatizer\n",
    "\n",
    "\n",
    "def get_wordnet_pos(treebank_tag):\n",
    "    if treebank_tag.startswith('J'):\n",
    "        return wordnet.ADJ\n",
    "    elif treebank_tag.startswith('V'):\n",
    "        return wordnet.VERB\n",
    "    elif treebank_tag.startswith('N'):\n",
    "        return wordnet.NOUN\n",
    "    elif treebank_tag.startswith('R'):\n",
    "        return wordnet.ADV\n",
    "    else:\n",
    "        return None\n",
    "\n",
    "\n",
    "def lemmatize_sentence(sentence):\n",
    "    res = []\n",
    "    lemmatizer = WordNetLemmatizer()\n",
    "    for word, pos in pos_tag(word_tokenize(sentence)):\n",
    "        wordnet_pos = get_wordnet_pos(pos) or wordnet.NOUN\n",
    "        res.append(lemmatizer.lemmatize(word, pos=wordnet_pos))\n",
    "\n",
    "    return res\n",
    "\n",
    "def stemming_sentence(text):\n",
    "    '''\n",
    "    eliminate plurals and redundancy of words (ie thank, thanks)\n",
    "    '''\n",
    "    ps = PorterStemmer()\n",
    "    text = tokenize(text)\n",
    "    text = ' '.join(ps.stem(word) for word in text)\n",
    "    return(text)\n",
    "\n"
   ]
  },
  {
   "cell_type": "code",
   "execution_count": 12,
   "metadata": {},
   "outputs": [],
   "source": [
    "# apply tokenize function\n",
    "train_data['text_split'] = train_data['clean'].apply(tokenize)"
   ]
  },
  {
   "cell_type": "code",
   "execution_count": 14,
   "metadata": {},
   "outputs": [],
   "source": [
    "# apply steming function\n",
    "\n",
    "train_data['text_stemmed'] = train_data['text_split'].apply(stemming)\n",
    "train_data['text_stemmed_sentence'] = train_data['clean'].apply(stemming_sentence)\n",
    "\n",
    "# apply lemmatizeing function\n",
    "\n",
    "train_data['text_lemmatized'] = train_data['text_stemmed_sentence'].apply(lemmatize_sentence)\n"
   ]
  },
  {
   "cell_type": "code",
   "execution_count": 15,
   "metadata": {},
   "outputs": [
    {
     "data": {
      "text/html": [
       "<div>\n",
       "<style scoped>\n",
       "    .dataframe tbody tr th:only-of-type {\n",
       "        vertical-align: middle;\n",
       "    }\n",
       "\n",
       "    .dataframe tbody tr th {\n",
       "        vertical-align: top;\n",
       "    }\n",
       "\n",
       "    .dataframe thead th {\n",
       "        text-align: right;\n",
       "    }\n",
       "</style>\n",
       "<table border=\"1\" class=\"dataframe\">\n",
       "  <thead>\n",
       "    <tr style=\"text-align: right;\">\n",
       "      <th></th>\n",
       "      <th>sentiment</th>\n",
       "      <th>text</th>\n",
       "      <th>clean</th>\n",
       "      <th>text_split</th>\n",
       "      <th>text_stemmed</th>\n",
       "      <th>text_stemmed_sentence</th>\n",
       "      <th>text_lemmatized</th>\n",
       "    </tr>\n",
       "  </thead>\n",
       "  <tbody>\n",
       "    <tr>\n",
       "      <th>0</th>\n",
       "      <td>Neutral</td>\n",
       "      <td>RT @NancyLeeGrahn: How did everyone feel about...</td>\n",
       "      <td>how did everyone feel about the climate chang...</td>\n",
       "      <td>[how, did, everyone, feel, about, the, climate...</td>\n",
       "      <td>[how, did, everyon, feel, about, the, climat, ...</td>\n",
       "      <td>how did everyon feel about the climat chang qu...</td>\n",
       "      <td>[how, do, everyon, feel, about, the, climat, c...</td>\n",
       "    </tr>\n",
       "    <tr>\n",
       "      <th>1</th>\n",
       "      <td>Positive</td>\n",
       "      <td>RT @ScottWalker: Didn't catch the full #GOPdeb...</td>\n",
       "      <td>didnt catch the full gopdebate last night her...</td>\n",
       "      <td>[didnt, catch, the, full, gopdebate, last, nig...</td>\n",
       "      <td>[didnt, catch, the, full, gopdeb, last, night,...</td>\n",
       "      <td>didnt catch the full gopdeb last night here ar...</td>\n",
       "      <td>[didnt, catch, the, full, gopdeb, last, night,...</td>\n",
       "    </tr>\n",
       "    <tr>\n",
       "      <th>2</th>\n",
       "      <td>Neutral</td>\n",
       "      <td>RT @TJMShow: No mention of Tamir Rice and the ...</td>\n",
       "      <td>no mention of tamir rice and the gopdebate wa...</td>\n",
       "      <td>[no, mention, of, tamir, rice, and, the, gopde...</td>\n",
       "      <td>[no, mention, of, tamir, rice, and, the, gopde...</td>\n",
       "      <td>no mention of tamir rice and the gopdeb wa hel...</td>\n",
       "      <td>[no, mention, of, tamir, rice, and, the, gopde...</td>\n",
       "    </tr>\n",
       "    <tr>\n",
       "      <th>3</th>\n",
       "      <td>Positive</td>\n",
       "      <td>RT @RobGeorge: That Carly Fiorina is trending ...</td>\n",
       "      <td>that carly fiorina is trending  hours after h...</td>\n",
       "      <td>[that, carly, fiorina, is, trending, hours, af...</td>\n",
       "      <td>[that, carli, fiorina, is, trend, hour, after,...</td>\n",
       "      <td>that carli fiorina is trend hour after her deb...</td>\n",
       "      <td>[that, carli, fiorina, be, trend, hour, after,...</td>\n",
       "    </tr>\n",
       "    <tr>\n",
       "      <th>4</th>\n",
       "      <td>Positive</td>\n",
       "      <td>RT @DanScavino: #GOPDebate w/ @realDonaldTrump...</td>\n",
       "      <td>gopdebate w delivered the highest ratings in ...</td>\n",
       "      <td>[gopdebate, w, delivered, the, highest, rating...</td>\n",
       "      <td>[gopdeb, w, deliv, the, highest, rate, in, the...</td>\n",
       "      <td>gopdeb w deliv the highest rate in the histori...</td>\n",
       "      <td>[gopdeb, w, deliv, the, high, rate, in, the, h...</td>\n",
       "    </tr>\n",
       "  </tbody>\n",
       "</table>\n",
       "</div>"
      ],
      "text/plain": [
       "  sentiment                                               text  \\\n",
       "0   Neutral  RT @NancyLeeGrahn: How did everyone feel about...   \n",
       "1  Positive  RT @ScottWalker: Didn't catch the full #GOPdeb...   \n",
       "2   Neutral  RT @TJMShow: No mention of Tamir Rice and the ...   \n",
       "3  Positive  RT @RobGeorge: That Carly Fiorina is trending ...   \n",
       "4  Positive  RT @DanScavino: #GOPDebate w/ @realDonaldTrump...   \n",
       "\n",
       "                                               clean  \\\n",
       "0   how did everyone feel about the climate chang...   \n",
       "1   didnt catch the full gopdebate last night her...   \n",
       "2   no mention of tamir rice and the gopdebate wa...   \n",
       "3   that carly fiorina is trending  hours after h...   \n",
       "4   gopdebate w delivered the highest ratings in ...   \n",
       "\n",
       "                                          text_split  \\\n",
       "0  [how, did, everyone, feel, about, the, climate...   \n",
       "1  [didnt, catch, the, full, gopdebate, last, nig...   \n",
       "2  [no, mention, of, tamir, rice, and, the, gopde...   \n",
       "3  [that, carly, fiorina, is, trending, hours, af...   \n",
       "4  [gopdebate, w, delivered, the, highest, rating...   \n",
       "\n",
       "                                        text_stemmed  \\\n",
       "0  [how, did, everyon, feel, about, the, climat, ...   \n",
       "1  [didnt, catch, the, full, gopdeb, last, night,...   \n",
       "2  [no, mention, of, tamir, rice, and, the, gopde...   \n",
       "3  [that, carli, fiorina, is, trend, hour, after,...   \n",
       "4  [gopdeb, w, deliv, the, highest, rate, in, the...   \n",
       "\n",
       "                               text_stemmed_sentence  \\\n",
       "0  how did everyon feel about the climat chang qu...   \n",
       "1  didnt catch the full gopdeb last night here ar...   \n",
       "2  no mention of tamir rice and the gopdeb wa hel...   \n",
       "3  that carli fiorina is trend hour after her deb...   \n",
       "4  gopdeb w deliv the highest rate in the histori...   \n",
       "\n",
       "                                     text_lemmatized  \n",
       "0  [how, do, everyon, feel, about, the, climat, c...  \n",
       "1  [didnt, catch, the, full, gopdeb, last, night,...  \n",
       "2  [no, mention, of, tamir, rice, and, the, gopde...  \n",
       "3  [that, carli, fiorina, be, trend, hour, after,...  \n",
       "4  [gopdeb, w, deliv, the, high, rate, in, the, h...  "
      ]
     },
     "execution_count": 15,
     "metadata": {},
     "output_type": "execute_result"
    }
   ],
   "source": [
    "train_data.head()"
   ]
  },
  {
   "cell_type": "code",
   "execution_count": null,
   "metadata": {},
   "outputs": [],
   "source": []
  },
  {
   "cell_type": "markdown",
   "metadata": {},
   "source": [
    "## Wordlist"
   ]
  },
  {
   "cell_type": "markdown",
   "metadata": {},
   "source": [
    "The wordlist (dictionary) is build by simple count of occurences \n",
    "of every unique word across all of the training dataset."
   ]
  },
  {
   "cell_type": "code",
   "execution_count": 16,
   "metadata": {},
   "outputs": [
    {
     "data": {
      "text/plain": [
       "[('gopdeb', 12302), ('the', 7873), ('be', 5249), ('to', 4196), ('a', 3385)]"
      ]
     },
     "execution_count": 16,
     "metadata": {},
     "output_type": "execute_result"
    }
   ],
   "source": [
    "words = Counter()\n",
    "for idx in train_data.index:\n",
    "    words.update(train_data.loc[idx, \"text_lemmatized\"])\n",
    "\n",
    "words.most_common(5)"
   ]
  },
  {
   "cell_type": "code",
   "execution_count": 17,
   "metadata": {},
   "outputs": [],
   "source": [
    "stopwords=nltk.corpus.stopwords.words(\"english\")"
   ]
  },
  {
   "cell_type": "code",
   "execution_count": 18,
   "metadata": {},
   "outputs": [
    {
     "data": {
      "text/plain": [
       "[('gopdeb', 12302),\n",
       " ('trump', 1631),\n",
       " ('fox', 1206),\n",
       " ('not', 1158),\n",
       " ('thi', 1104)]"
      ]
     },
     "execution_count": 18,
     "metadata": {},
     "output_type": "execute_result"
    }
   ],
   "source": [
    "whitelist = [\"n't\", \"not\"]\n",
    "for idx, stop_word in enumerate(stopwords):\n",
    "    if stop_word not in whitelist:\n",
    "        del words[stop_word]\n",
    "words.most_common(5)"
   ]
  },
  {
   "cell_type": "code",
   "execution_count": 19,
   "metadata": {},
   "outputs": [],
   "source": [
    "def word_list(processed_data):\n",
    "    #print(processed_data)\n",
    "    min_occurrences=3\n",
    "    max_occurences=13000\n",
    "    stopwords=nltk.corpus.stopwords.words(\"english\")\n",
    "    whitelist = [\"n't\",\"not\"]\n",
    "    wordlist = []\n",
    "    \n",
    "    whitelist = whitelist if whitelist is None else whitelist\n",
    "    #print(whitelist)\n",
    "    '''\n",
    "    import os\n",
    "    if os.path.isfile(\"wordlist.csv\"):\n",
    "        word_df = pd.read_csv(\"wordlist.csv\")\n",
    "        word_df = word_df[word_df[\"occurrences\"] > min_occurrences]\n",
    "        wordlist = list(word_df.loc[:, \"word\"])\n",
    "        #return\n",
    "    '''\n",
    "    words = Counter()\n",
    "    for idx in processed_data.index:\n",
    "        words.update(processed_data.loc[idx, \"text_lemmatized\"])\n",
    "\n",
    "    for idx, stop_word in enumerate(stopwords):\n",
    "        if stop_word not in whitelist:\n",
    "            del words[stop_word]\n",
    "    #print(words)\n",
    "\n",
    "    word_df = pd.DataFrame(data={\"word\": [k for k, v in words.most_common() if min_occurrences < v < max_occurences],\n",
    "                                 \"occurrences\": [v for k, v in words.most_common() if min_occurrences < v < max_occurences]},\n",
    "                           columns=[\"word\", \"occurrences\"])\n",
    "    #print(word_df)\n",
    "    word_df.to_csv(\"wordlist.csv\", index_label=\"idx\")\n",
    "    wordlist = [k for k, v in words.most_common() if min_occurrences < v < max_occurences]\n",
    "    #print(wordlist)"
   ]
  },
  {
   "cell_type": "code",
   "execution_count": 20,
   "metadata": {},
   "outputs": [],
   "source": [
    "word_list(train_data)"
   ]
  },
  {
   "cell_type": "code",
   "execution_count": 21,
   "metadata": {},
   "outputs": [],
   "source": [
    "words = pd.read_csv(\"wordlist.csv\")"
   ]
  },
  {
   "cell_type": "markdown",
   "metadata": {},
   "source": [
    "## Bag of Words"
   ]
  },
  {
   "cell_type": "code",
   "execution_count": 23,
   "metadata": {},
   "outputs": [],
   "source": [
    "import os"
   ]
  },
  {
   "cell_type": "code",
   "execution_count": 24,
   "metadata": {},
   "outputs": [],
   "source": [
    "wordlist= []\n",
    "if os.path.isfile(\"wordlist.csv\"):\n",
    "    word_df = pd.read_csv(\"wordlist.csv\")\n",
    "    word_df = word_df[word_df[\"occurrences\"] > 10]\n",
    "    wordlist = list(word_df.loc[:, \"word\"])\n",
    "\n",
    "label_column = [\"label\"]\n",
    "columns = label_column + list(map(lambda w: w + \"_bow\",wordlist))\n",
    "\n",
    "labels = []\n",
    "rows = []\n",
    "for idx in train_data.index:\n",
    "    current_row = []\n",
    "    \n",
    "    # add label\n",
    "    current_label = train_data.loc[idx, \"sentiment\"]\n",
    "    labels.append(current_label)\n",
    "    current_row.append(current_label)\n",
    "\n",
    "    # add bag-of-words\n",
    "    tokens = set(train_data.loc[idx, \"text_lemmatized\"])\n",
    "    for _, word in enumerate(wordlist):\n",
    "        current_row.append(1 if word in tokens else 0)\n",
    "\n",
    "    rows.append(current_row)\n",
    "\n",
    "data_model = pd.DataFrame(rows, columns=columns)\n",
    "data_labels = pd.Series(labels)\n",
    "\n",
    "\n",
    "bow = data_model"
   ]
  },
  {
   "cell_type": "markdown",
   "metadata": {},
   "source": [
    "## Classification"
   ]
  },
  {
   "cell_type": "code",
   "execution_count": 25,
   "metadata": {},
   "outputs": [],
   "source": [
    "import random\n",
    "seed = 888\n",
    "random.seed(seed)\n"
   ]
  },
  {
   "cell_type": "code",
   "execution_count": 26,
   "metadata": {},
   "outputs": [],
   "source": [
    "def test_classifier(X_train, y_train, X_test, y_test, classifier):\n",
    "    log(\"\")\n",
    "    log(\"---------------------------------------------------------\")\n",
    "    log(\"Testing \" + str(type(classifier).__name__))\n",
    "    now = time()\n",
    "    list_of_labels = sorted(list(set(y_train)))\n",
    "    model = classifier.fit(X_train, y_train)\n",
    "    log(\"Learing time {0}s\".format(time() - now))\n",
    "    now = time()\n",
    "    predictions = model.predict(X_test)\n",
    "    log(\"Predicting time {0}s\".format(time() - now))\n",
    "\n",
    "    # Calculate Accuracy, Precision, recall\n",
    "    \n",
    "    precision = precision_score(y_test, predictions, average=None, pos_label=None, labels=list_of_labels)\n",
    "    recall = recall_score(y_test, predictions, average=None, pos_label=None, labels=list_of_labels)\n",
    "    accuracy = accuracy_score(y_test, predictions)\n",
    "    f1 = f1_score(y_test, predictions, average=None, pos_label=None, labels=list_of_labels)\n",
    "    \n",
    "    log(\"=================== Results ===================\")\n",
    "    log(\"            Negative     Neutral     Positive\")\n",
    "    log(\"F1       \" + str(f1))\n",
    "    log(\"Precision\" + str(precision))\n",
    "    log(\"Recall   \" + str(recall))\n",
    "    log(\"Accuracy \" + str(accuracy))\n",
    "    log(\"===============================================\")\n",
    "\n",
    "    return precision, recall, accuracy, f1\n",
    "\n",
    "def log(x):\n",
    "    #can be used to write to log file\n",
    "    print(x)\n"
   ]
  },
  {
   "cell_type": "markdown",
   "metadata": {},
   "source": [
    "<font color=black size=4 face=\"times new roman\">To evaluate the performance of the classifier, we use 'Accuracy, Precision, recall'.\n",
    "TP: prediction = Possitive, true\n",
    "TN: prediction = Negative，true\n",
    "FP: prediction = Possitive, false\n",
    "FN: prediction = Negative，false\n",
    "\n",
    "Acurracy = (TP+TN)/(TP+TN+FP+FN)\n",
    "Precision = TP/(TP+FP)\n",
    "Recall = TP/(TP+FN)\n",
    "F1 = 2*(Precision*Recall)/(Precision+Recall)"
   ]
  },
  {
   "cell_type": "markdown",
   "metadata": {},
   "source": [
    "## Experiment on Naive Bayes with no added-feature "
   ]
  },
  {
   "cell_type": "code",
   "execution_count": 27,
   "metadata": {},
   "outputs": [
    {
     "name": "stdout",
     "output_type": "stream",
     "text": [
      "\n",
      "---------------------------------------------------------\n",
      "Testing BernoulliNB\n",
      "Learing time 0.5157170295715332s\n",
      "Predicting time 0.17186188697814941s\n",
      "=================== Results ===================\n",
      "            Negative     Neutral     Positive\n",
      "F1       [0.77864924 0.47274882 0.51335878]\n",
      "Precision[0.79741187 0.44039735 0.52131783]\n",
      "Recall   [0.76074926 0.51023018 0.5056391 ]\n",
      "Accuracy 0.6702156702156702\n",
      "===============================================\n"
     ]
    }
   ],
   "source": [
    "from sklearn.naive_bayes import BernoulliNB\n",
    "X_train, X_test, y_train, y_test = train_test_split(bow.iloc[:, 1:], bow['label'], test_size=0.3)\n",
    "precision, recall, accuracy, f1 = test_classifier(X_train, y_train, X_test, y_test, BernoulliNB())"
   ]
  },
  {
   "cell_type": "code",
   "execution_count": 28,
   "metadata": {},
   "outputs": [],
   "source": [
    "def cv(classifier, X_train, y_train):\n",
    "    log(\"===============================================\")\n",
    "    classifier_name = str(type(classifier).__name__)\n",
    "    now = time()\n",
    "    log(\"Crossvalidating \" + classifier_name + \"...\")\n",
    "    accuracy = [cross_val_score(classifier, X_train, y_train, cv=8, n_jobs=-1)]\n",
    "    log(\"Crosvalidation completed in {0}s\".format(time() - now))\n",
    "    log(\"Accuracy: \" + str(accuracy[0]))\n",
    "    log(\"Average accuracy: \" + str(np.array(accuracy[0]).mean()))\n",
    "    log(\"===============================================\")\n",
    "    return accuracy"
   ]
  },
  {
   "cell_type": "code",
   "execution_count": null,
   "metadata": {},
   "outputs": [],
   "source": []
  },
  {
   "cell_type": "markdown",
   "metadata": {},
   "source": [
    "## experiments on Random Forest with no added-feature"
   ]
  },
  {
   "cell_type": "code",
   "execution_count": 29,
   "metadata": {},
   "outputs": [
    {
     "name": "stdout",
     "output_type": "stream",
     "text": [
      "\n",
      "---------------------------------------------------------\n",
      "Testing RandomForestClassifier\n",
      "Learing time 27.90682053565979s\n",
      "Predicting time 0.8341944217681885s\n",
      "=================== Results ===================\n",
      "            Negative     Neutral     Positive\n",
      "F1       [0.80444268 0.42366691 0.50710383]\n",
      "Precision[0.75334324 0.47697368 0.63911846]\n",
      "Recall   [0.86297872 0.38107753 0.42028986]\n",
      "Accuracy 0.6961506961506961\n",
      "===============================================\n"
     ]
    }
   ],
   "source": [
    "from sklearn.ensemble import RandomForestClassifier\n",
    "X_train, X_test, y_train, y_test = train_test_split(bow.iloc[:, 1:], bow['label'], test_size=0.3)\n",
    "precision, recall, accuracy, f1 = test_classifier(X_train, y_train, X_test, y_test, RandomForestClassifier(random_state=seed,n_estimators=403,n_jobs=-1))\n"
   ]
  },
  {
   "cell_type": "code",
   "execution_count": 30,
   "metadata": {},
   "outputs": [
    {
     "name": "stdout",
     "output_type": "stream",
     "text": [
      "===============================================\n",
      "Crossvalidating RandomForestClassifier...\n",
      "Crosvalidation completed in 307.5116033554077s\n",
      "Accuracy: [0.67931937 0.63892529 0.66906946 0.65137615 0.57798165 0.69200524\n",
      " 0.6965924  0.68327869]\n",
      "Average accuracy: 0.6610685321055921\n",
      "===============================================\n"
     ]
    }
   ],
   "source": [
    "rf_acc = cv(RandomForestClassifier(n_estimators=403,n_jobs=-1, random_state=seed),bow.iloc[:, 1:], data_model['label'])"
   ]
  },
  {
   "cell_type": "markdown",
   "metadata": {},
   "source": [
    "## experiments on XGboost with no added-feature"
   ]
  },
  {
   "cell_type": "code",
   "execution_count": 31,
   "metadata": {},
   "outputs": [],
   "source": [
    "from xgboost import XGBClassifier as XGBoostClassifier"
   ]
  },
  {
   "cell_type": "code",
   "execution_count": 32,
   "metadata": {},
   "outputs": [
    {
     "name": "stdout",
     "output_type": "stream",
     "text": [
      "\n",
      "---------------------------------------------------------\n",
      "Testing XGBClassifier\n",
      "Learing time 127.53679752349854s\n",
      "Predicting time 0.42290425300598145s\n",
      "=================== Results ===================\n",
      "            Negative     Neutral     Positive\n",
      "F1       [0.80054645 0.07898089 0.31240876]\n",
      "Precision[0.67124857 0.75609756 0.82307692]\n",
      "Recall   [0.99153976 0.04166667 0.19279279]\n",
      "Accuracy 0.6775866775866776\n",
      "===============================================\n"
     ]
    }
   ],
   "source": [
    "X_train, X_test, y_train, y_test = train_test_split(bow.iloc[:, 1:],data_model['label'] , test_size=0.3)\n",
    "precision, recall, accuracy, f1 = test_classifier(X_train, y_train, X_test, y_test, XGBoostClassifier(seed=seed))"
   ]
  },
  {
   "cell_type": "code",
   "execution_count": null,
   "metadata": {},
   "outputs": [],
   "source": []
  },
  {
   "cell_type": "markdown",
   "metadata": {},
   "source": [
    "## Add Extra Features"
   ]
  },
  {
   "cell_type": "markdown",
   "metadata": {},
   "source": [
    "To run the extra feature function we have to oad the data again because we have already removed the special charactrs and numbers."
   ]
  },
  {
   "cell_type": "code",
   "execution_count": 33,
   "metadata": {},
   "outputs": [],
   "source": [
    "train_data = pd.read_csv('GOP_REL_ONLY.csv',encoding=\"unicode_escape\")\n",
    "#train_data = pd.read_csv('data/train.csv')\n",
    "#test_data = pd.read_csv('data/test.csv')\n",
    "\n",
    "#train_data.rename(columns={'sentiment': 'emotion'}, inplace=True)\n",
    "#test_data.rename(columns={'Category': 'emotion'}, inplace=True)\n",
    "\n",
    "\n",
    "train_data = train_data[train_data['sentiment:confidence'] > 0.6] \n",
    "train_data = train_data[['sentiment','text']]\n",
    "\n",
    "#test_data = test_data[test_data['emotion'] != 'Tweet']"
   ]
  },
  {
   "cell_type": "raw",
   "metadata": {},
   "source": [
    "Feature name \tExplanation\n",
    "Number of uppercase \tpeople tend to express with either positive or negative emotions by using A LOT OF UPPERCASE WORDS\n",
    "Number of ! \texclamation marks are likely to increase the strength of opinion\n",
    "Number of ? \tmight distinguish neutral tweets - seeking for information\n",
    "Number of positive emoticons \tpositive emoji will most likely not occur in the negative tweets\n",
    "Number of negative emoticons \tinverse to the one above\n",
    "Number of … \tcommonly used in commenting something\n",
    "Number of quotations \tsame as above\n",
    "Number of mentions \tsometimes people put a lot of mentions on positive tweets, to share something good\n",
    "Number of hashtags \tjust for the experiment\n",
    "Number of urls \tsimiliar to the number of mentions"
   ]
  },
  {
   "cell_type": "code",
   "execution_count": 34,
   "metadata": {},
   "outputs": [],
   "source": [
    "def add_extra_feature(df, tweet_column):\n",
    "    \n",
    "    # Print Number of Exclamation\n",
    "    #length_of_excl = (len(re.findall(r'!', string)))\n",
    "    df['number_of_exclamation'] = tweet_column.apply(lambda x: (len(re.findall(r'!', x))))\n",
    "    \n",
    "    # Number of ?\n",
    "    #length_of_questionmark = (len(re.findall(r'?', string)))\n",
    "    df['number_of_questionmark'] = tweet_column.apply(lambda x: (len(re.findall(r'[?]', x))))\n",
    "    \n",
    "    # Number of #\n",
    "    df['number_of_hashtag'] = tweet_column.apply(lambda x: (len(re.findall(r'#', x))))\n",
    "    \n",
    "    # Number of @\n",
    "    df['number_of_mention'] = tweet_column.apply(lambda x: (len(re.findall(r'@', x))))\n",
    "    \n",
    "    # Number of Quotes\n",
    "    df['number_of_quotes'] = tweet_column.apply(lambda x: (len(re.findall(r\"'\", x))))\n",
    "\n",
    "    # Number if underscore\n",
    "    df['number_of_underscore'] = tweet_column.apply(lambda x: (len(re.findall(r'_', x))))\n",
    "    \n",
    "    \n",
    "    #print((txt.split(\" \"), row))\n",
    "    #print(row.split())"
   ]
  },
  {
   "cell_type": "code",
   "execution_count": 35,
   "metadata": {},
   "outputs": [],
   "source": [
    "# pass the train_data into add_extra_feature function\n",
    "add_extra_feature(train_data, train_data[\"text\"])\n",
    "#print(train_data)"
   ]
  },
  {
   "cell_type": "markdown",
   "metadata": {},
   "source": [
    "## ADD EMOTICONS"
   ]
  },
  {
   "cell_type": "markdown",
   "metadata": {},
   "source": [
    "Emoticons in a tweet also matter, so we will find the emoticons in a users tweet.And add the number of positive and negative emoticons as two seperate features into the dataset.\n",
    "Unfortunatly, the emoticions cannot be shown in the output correctly. One possible reason might be the encoding of the file is not utf-8. When reading the csv file, the parameter encoding is set to 'escape unicode'."
   ]
  },
  {
   "cell_type": "code",
   "execution_count": 36,
   "metadata": {},
   "outputs": [],
   "source": [
    "## Emoticon Detector\n",
    "\n",
    "class EmoticonDetector:\n",
    "    emoticons = {}\n",
    "\n",
    "    def __init__(self, emoticon_file=\"emoticons.txt\"):\n",
    "        from pathlib import Path\n",
    "        content = Path(emoticon_file).read_text()\n",
    "        positive = True\n",
    "        for line in content.split(\"\\n\"):\n",
    "            if \"positive\" in line.lower():\n",
    "                positive = True\n",
    "                continue\n",
    "            elif \"negative\" in line.lower():\n",
    "                positive = False\n",
    "                continue\n",
    "\n",
    "            self.emoticons[line] = positive\n",
    "\n",
    "    def is_positive(self, emoticon):\n",
    "        if emoticon in self.emoticons:\n",
    "            return self.emoticons[emoticon]\n",
    "        return False\n",
    "\n",
    "    def is_emoticon(self, to_check):\n",
    "        return to_check in self.emoticons"
   ]
  },
  {
   "cell_type": "code",
   "execution_count": 37,
   "metadata": {},
   "outputs": [],
   "source": [
    "ed = EmoticonDetector()"
   ]
  },
  {
   "cell_type": "code",
   "execution_count": 38,
   "metadata": {},
   "outputs": [],
   "source": [
    "processed_data = train_data.copy()\n",
    "\n",
    "def add_column(column_name, column_content):\n",
    "    processed_data.loc[:, column_name] = pd.Series(column_content, index=processed_data.index)\n",
    "\n",
    "def count_by_lambda(expression, word_array):\n",
    "    return len(list(filter(expression, word_array)))\n",
    "\n",
    "add_column(\"split\", map(lambda txt: txt.split(\" \"), processed_data[\"text\"]))\n",
    "\n",
    "positive_emo = list(\n",
    "    map(lambda txt: count_by_lambda(lambda word: ed.is_emoticon(word) and ed.is_positive(word), txt),\n",
    "        processed_data[\"split\"]))\n",
    "add_column(\"number_of_positive_emo\", positive_emo)\n",
    "\n",
    "negative_emo = list(map(\n",
    "    lambda txt: count_by_lambda(lambda word: ed.is_emoticon(word) and not ed.is_positive(word), txt),\n",
    "    processed_data[\"split\"]))\n",
    "\n",
    "add_column(\"number_of_negative_emo\", negative_emo)"
   ]
  },
  {
   "cell_type": "code",
   "execution_count": 39,
   "metadata": {},
   "outputs": [],
   "source": [
    "train_data['number_of_positive_emo'] = positive_emo\n",
    "train_data['number_of_negative_emo'] = negative_emo\n",
    "\n",
    "# a=train_data['number_of_positive_emo']\n",
    "# b=a[a>0]\n",
    "# print(b)\n",
    "\n",
    "\n"
   ]
  },
  {
   "cell_type": "markdown",
   "metadata": {},
   "source": [
    "## WHY EXTRA FEATURES"
   ]
  },
  {
   "cell_type": "markdown",
   "metadata": {},
   "source": [
    "The distributions of the extra feature of the data set are showned below.<br />\n",
    "These graphs can show how the extra features represent the sentiments to some extent.<p>\n",
    "\n",
    "Feature name Explanation:<p>\n",
    "Number of uppercase: Uppercase words help to identify the negative or positive emotions of a user<br />\n",
    "Number of !: Exclamation marks are likely to increase the strength of opinion<br />\n",
    "Number of ?: Can be used to identify neutral tweets<br />\n",
    "Number of positive emoticons: Use of positive emoticon may imply the positive sentiment<br />\n",
    "Number of negative emoticons: Use of negative emoticon may imply the negative sentiment<br />\n",
    "Number of quotations Same as above<br />\n",
    "Number of mentions: People mention other people mostly to share something good<br />\n",
    "Number of hashtags: For experiment purpose<br />"
   ]
  },
  {
   "cell_type": "code",
   "execution_count": 40,
   "metadata": {},
   "outputs": [
    {
     "data": {
      "image/png": "[encoded data removed]",
      "text/plain": [
       "<Figure size 432x288 with 1 Axes>"
      ]
     },
     "metadata": {
      "needs_background": "light"
     },
     "output_type": "display_data"
    }
   ],
   "source": [
    "sns.barplot(x='sentiment', y='number_of_mention', data=train_data)\n",
    "sns.despine()\n",
    "plt.tight_layout()"
   ]
  },
  {
   "cell_type": "code",
   "execution_count": 41,
   "metadata": {},
   "outputs": [
    {
     "data": {
      "image/png": "[encoded data removed]",
      "text/plain": [
       "<Figure size 432x288 with 1 Axes>"
      ]
     },
     "metadata": {
      "needs_background": "light"
     },
     "output_type": "display_data"
    }
   ],
   "source": [
    "sns.barplot(x='sentiment', y='number_of_negative_emo', data=train_data)\n",
    "sns.despine()\n",
    "plt.tight_layout()"
   ]
  },
  {
   "cell_type": "code",
   "execution_count": 42,
   "metadata": {},
   "outputs": [
    {
     "data": {
      "image/png": "[encoded data removed]",
      "text/plain": [
       "<Figure size 432x288 with 1 Axes>"
      ]
     },
     "metadata": {
      "needs_background": "light"
     },
     "output_type": "display_data"
    }
   ],
   "source": [
    "sns.barplot(x='sentiment', y='number_of_questionmark', data=train_data)\n",
    "sns.despine()\n",
    "plt.tight_layout()"
   ]
  },
  {
   "cell_type": "code",
   "execution_count": 43,
   "metadata": {},
   "outputs": [
    {
     "data": {
      "image/png": "[encoded data removed]",
      "text/plain": [
       "<Figure size 432x288 with 1 Axes>"
      ]
     },
     "metadata": {
      "needs_background": "light"
     },
     "output_type": "display_data"
    }
   ],
   "source": [
    "sns.barplot(x='sentiment', y='number_of_exclamation', data=train_data)\n",
    "sns.despine()\n",
    "plt.tight_layout()"
   ]
  },
  {
   "cell_type": "code",
   "execution_count": 44,
   "metadata": {
    "scrolled": true
   },
   "outputs": [
    {
     "data": {
      "image/png": "[encoded data removed]",
      "text/plain": [
       "<Figure size 432x288 with 1 Axes>"
      ]
     },
     "metadata": {
      "needs_background": "light"
     },
     "output_type": "display_data"
    }
   ],
   "source": [
    "sns.barplot(x='sentiment', y='number_of_positive_emo', data=train_data)\n",
    "sns.despine()\n",
    "plt.tight_layout()"
   ]
  },
  {
   "cell_type": "code",
   "execution_count": 45,
   "metadata": {},
   "outputs": [
    {
     "data": {
      "image/png": "[encoded data removed]",
      "text/plain": [
       "<Figure size 432x288 with 1 Axes>"
      ]
     },
     "metadata": {
      "needs_background": "light"
     },
     "output_type": "display_data"
    }
   ],
   "source": [
    "sns.barplot(x='sentiment', y='number_of_hashtag', data=train_data)\n",
    "sns.despine()\n",
    "plt.tight_layout()"
   ]
  },
  {
   "cell_type": "code",
   "execution_count": 46,
   "metadata": {},
   "outputs": [
    {
     "data": {
      "image/png": "[encoded data removed]",
      "text/plain": [
       "<Figure size 432x288 with 1 Axes>"
      ]
     },
     "metadata": {
      "needs_background": "light"
     },
     "output_type": "display_data"
    }
   ],
   "source": [
    "sns.barplot(x='sentiment', y='number_of_underscore', data=train_data)\n",
    "sns.despine()\n",
    "plt.tight_layout()"
   ]
  },
  {
   "cell_type": "markdown",
   "metadata": {},
   "source": [
    "## Preapre training data for model"
   ]
  },
  {
   "cell_type": "code",
   "execution_count": 47,
   "metadata": {},
   "outputs": [
    {
     "data": {
      "text/html": [
       "<div>\n",
       "<style scoped>\n",
       "    .dataframe tbody tr th:only-of-type {\n",
       "        vertical-align: middle;\n",
       "    }\n",
       "\n",
       "    .dataframe tbody tr th {\n",
       "        vertical-align: top;\n",
       "    }\n",
       "\n",
       "    .dataframe thead th {\n",
       "        text-align: right;\n",
       "    }\n",
       "</style>\n",
       "<table border=\"1\" class=\"dataframe\">\n",
       "  <thead>\n",
       "    <tr style=\"text-align: right;\">\n",
       "      <th></th>\n",
       "      <th>sentiment</th>\n",
       "      <th>text</th>\n",
       "      <th>number_of_exclamation</th>\n",
       "      <th>number_of_questionmark</th>\n",
       "      <th>number_of_hashtag</th>\n",
       "      <th>number_of_mention</th>\n",
       "      <th>number_of_quotes</th>\n",
       "      <th>number_of_underscore</th>\n",
       "      <th>number_of_positive_emo</th>\n",
       "      <th>number_of_negative_emo</th>\n",
       "    </tr>\n",
       "  </thead>\n",
       "  <tbody>\n",
       "    <tr>\n",
       "      <th>0</th>\n",
       "      <td>Neutral</td>\n",
       "      <td>RT @NancyLeeGrahn: How did everyone feel about...</td>\n",
       "      <td>0</td>\n",
       "      <td>1</td>\n",
       "      <td>1</td>\n",
       "      <td>1</td>\n",
       "      <td>0</td>\n",
       "      <td>0</td>\n",
       "      <td>0</td>\n",
       "      <td>0</td>\n",
       "    </tr>\n",
       "    <tr>\n",
       "      <th>1</th>\n",
       "      <td>Positive</td>\n",
       "      <td>RT @ScottWalker: Didn't catch the full #GOPdeb...</td>\n",
       "      <td>0</td>\n",
       "      <td>0</td>\n",
       "      <td>2</td>\n",
       "      <td>1</td>\n",
       "      <td>2</td>\n",
       "      <td>1</td>\n",
       "      <td>0</td>\n",
       "      <td>0</td>\n",
       "    </tr>\n",
       "    <tr>\n",
       "      <th>2</th>\n",
       "      <td>Neutral</td>\n",
       "      <td>RT @TJMShow: No mention of Tamir Rice and the ...</td>\n",
       "      <td>0</td>\n",
       "      <td>1</td>\n",
       "      <td>1</td>\n",
       "      <td>1</td>\n",
       "      <td>0</td>\n",
       "      <td>0</td>\n",
       "      <td>0</td>\n",
       "      <td>0</td>\n",
       "    </tr>\n",
       "    <tr>\n",
       "      <th>3</th>\n",
       "      <td>Positive</td>\n",
       "      <td>RT @RobGeorge: That Carly Fiorina is trending ...</td>\n",
       "      <td>0</td>\n",
       "      <td>0</td>\n",
       "      <td>1</td>\n",
       "      <td>1</td>\n",
       "      <td>1</td>\n",
       "      <td>1</td>\n",
       "      <td>0</td>\n",
       "      <td>0</td>\n",
       "    </tr>\n",
       "    <tr>\n",
       "      <th>4</th>\n",
       "      <td>Positive</td>\n",
       "      <td>RT @DanScavino: #GOPDebate w/ @realDonaldTrump...</td>\n",
       "      <td>0</td>\n",
       "      <td>0</td>\n",
       "      <td>2</td>\n",
       "      <td>2</td>\n",
       "      <td>0</td>\n",
       "      <td>1</td>\n",
       "      <td>0</td>\n",
       "      <td>0</td>\n",
       "    </tr>\n",
       "  </tbody>\n",
       "</table>\n",
       "</div>"
      ],
      "text/plain": [
       "  sentiment                                               text  \\\n",
       "0   Neutral  RT @NancyLeeGrahn: How did everyone feel about...   \n",
       "1  Positive  RT @ScottWalker: Didn't catch the full #GOPdeb...   \n",
       "2   Neutral  RT @TJMShow: No mention of Tamir Rice and the ...   \n",
       "3  Positive  RT @RobGeorge: That Carly Fiorina is trending ...   \n",
       "4  Positive  RT @DanScavino: #GOPDebate w/ @realDonaldTrump...   \n",
       "\n",
       "   number_of_exclamation  number_of_questionmark  number_of_hashtag  \\\n",
       "0                      0                       1                  1   \n",
       "1                      0                       0                  2   \n",
       "2                      0                       1                  1   \n",
       "3                      0                       0                  1   \n",
       "4                      0                       0                  2   \n",
       "\n",
       "   number_of_mention  number_of_quotes  number_of_underscore  \\\n",
       "0                  1                 0                     0   \n",
       "1                  1                 2                     1   \n",
       "2                  1                 0                     0   \n",
       "3                  1                 1                     1   \n",
       "4                  2                 0                     1   \n",
       "\n",
       "   number_of_positive_emo  number_of_negative_emo  \n",
       "0                       0                       0  \n",
       "1                       0                       0  \n",
       "2                       0                       0  \n",
       "3                       0                       0  \n",
       "4                       0                       0  "
      ]
     },
     "execution_count": 47,
     "metadata": {},
     "output_type": "execute_result"
    }
   ],
   "source": [
    "train_data.head()"
   ]
  },
  {
   "cell_type": "code",
   "execution_count": 48,
   "metadata": {
    "scrolled": true
   },
   "outputs": [],
   "source": [
    "# apply the clean tweet function\n",
    "train_data['tweet'] = train_data['text'].apply(clean_tweets)"
   ]
  },
  {
   "cell_type": "code",
   "execution_count": 49,
   "metadata": {},
   "outputs": [],
   "source": [
    "## Tokenize data\n",
    "train_data['text_split'] = train_data['tweet'].apply(tokenize)\n",
    "\n",
    "train_data['text_stemmed'] = train_data['text_split'].apply(stemming)\n",
    "\n",
    "train_data['text_stemmed_sentence'] = train_data['tweet'].apply(stemming_sentence)\n",
    "train_data['lemmatized'] = train_data['text_stemmed_sentence'].apply(lemmatize_sentence)\n"
   ]
  },
  {
   "cell_type": "code",
   "execution_count": 50,
   "metadata": {},
   "outputs": [
    {
     "data": {
      "text/html": [
       "<div>\n",
       "<style scoped>\n",
       "    .dataframe tbody tr th:only-of-type {\n",
       "        vertical-align: middle;\n",
       "    }\n",
       "\n",
       "    .dataframe tbody tr th {\n",
       "        vertical-align: top;\n",
       "    }\n",
       "\n",
       "    .dataframe thead th {\n",
       "        text-align: right;\n",
       "    }\n",
       "</style>\n",
       "<table border=\"1\" class=\"dataframe\">\n",
       "  <thead>\n",
       "    <tr style=\"text-align: right;\">\n",
       "      <th></th>\n",
       "      <th>sentiment</th>\n",
       "      <th>text</th>\n",
       "      <th>number_of_exclamation</th>\n",
       "      <th>number_of_questionmark</th>\n",
       "      <th>number_of_hashtag</th>\n",
       "      <th>number_of_mention</th>\n",
       "      <th>number_of_quotes</th>\n",
       "      <th>number_of_underscore</th>\n",
       "      <th>number_of_positive_emo</th>\n",
       "      <th>number_of_negative_emo</th>\n",
       "      <th>tweet</th>\n",
       "      <th>text_split</th>\n",
       "      <th>text_stemmed</th>\n",
       "      <th>text_stemmed_sentence</th>\n",
       "      <th>lemmatized</th>\n",
       "    </tr>\n",
       "  </thead>\n",
       "  <tbody>\n",
       "    <tr>\n",
       "      <th>0</th>\n",
       "      <td>Neutral</td>\n",
       "      <td>RT @NancyLeeGrahn: How did everyone feel about...</td>\n",
       "      <td>0</td>\n",
       "      <td>1</td>\n",
       "      <td>1</td>\n",
       "      <td>1</td>\n",
       "      <td>0</td>\n",
       "      <td>0</td>\n",
       "      <td>0</td>\n",
       "      <td>0</td>\n",
       "      <td>how did everyone feel about the climate chang...</td>\n",
       "      <td>[how, did, everyone, feel, about, the, climate...</td>\n",
       "      <td>[how, did, everyon, feel, about, the, climat, ...</td>\n",
       "      <td>how did everyon feel about the climat chang qu...</td>\n",
       "      <td>[how, do, everyon, feel, about, the, climat, c...</td>\n",
       "    </tr>\n",
       "    <tr>\n",
       "      <th>1</th>\n",
       "      <td>Positive</td>\n",
       "      <td>RT @ScottWalker: Didn't catch the full #GOPdeb...</td>\n",
       "      <td>0</td>\n",
       "      <td>0</td>\n",
       "      <td>2</td>\n",
       "      <td>1</td>\n",
       "      <td>2</td>\n",
       "      <td>1</td>\n",
       "      <td>0</td>\n",
       "      <td>0</td>\n",
       "      <td>didnt catch the full gopdebate last night her...</td>\n",
       "      <td>[didnt, catch, the, full, gopdebate, last, nig...</td>\n",
       "      <td>[didnt, catch, the, full, gopdeb, last, night,...</td>\n",
       "      <td>didnt catch the full gopdeb last night here ar...</td>\n",
       "      <td>[didnt, catch, the, full, gopdeb, last, night,...</td>\n",
       "    </tr>\n",
       "    <tr>\n",
       "      <th>2</th>\n",
       "      <td>Neutral</td>\n",
       "      <td>RT @TJMShow: No mention of Tamir Rice and the ...</td>\n",
       "      <td>0</td>\n",
       "      <td>1</td>\n",
       "      <td>1</td>\n",
       "      <td>1</td>\n",
       "      <td>0</td>\n",
       "      <td>0</td>\n",
       "      <td>0</td>\n",
       "      <td>0</td>\n",
       "      <td>no mention of tamir rice and the gopdebate wa...</td>\n",
       "      <td>[no, mention, of, tamir, rice, and, the, gopde...</td>\n",
       "      <td>[no, mention, of, tamir, rice, and, the, gopde...</td>\n",
       "      <td>no mention of tamir rice and the gopdeb wa hel...</td>\n",
       "      <td>[no, mention, of, tamir, rice, and, the, gopde...</td>\n",
       "    </tr>\n",
       "    <tr>\n",
       "      <th>3</th>\n",
       "      <td>Positive</td>\n",
       "      <td>RT @RobGeorge: That Carly Fiorina is trending ...</td>\n",
       "      <td>0</td>\n",
       "      <td>0</td>\n",
       "      <td>1</td>\n",
       "      <td>1</td>\n",
       "      <td>1</td>\n",
       "      <td>1</td>\n",
       "      <td>0</td>\n",
       "      <td>0</td>\n",
       "      <td>that carly fiorina is trending  hours after h...</td>\n",
       "      <td>[that, carly, fiorina, is, trending, hours, af...</td>\n",
       "      <td>[that, carli, fiorina, is, trend, hour, after,...</td>\n",
       "      <td>that carli fiorina is trend hour after her deb...</td>\n",
       "      <td>[that, carli, fiorina, be, trend, hour, after,...</td>\n",
       "    </tr>\n",
       "    <tr>\n",
       "      <th>4</th>\n",
       "      <td>Positive</td>\n",
       "      <td>RT @DanScavino: #GOPDebate w/ @realDonaldTrump...</td>\n",
       "      <td>0</td>\n",
       "      <td>0</td>\n",
       "      <td>2</td>\n",
       "      <td>2</td>\n",
       "      <td>0</td>\n",
       "      <td>1</td>\n",
       "      <td>0</td>\n",
       "      <td>0</td>\n",
       "      <td>gopdebate w delivered the highest ratings in ...</td>\n",
       "      <td>[gopdebate, w, delivered, the, highest, rating...</td>\n",
       "      <td>[gopdeb, w, deliv, the, highest, rate, in, the...</td>\n",
       "      <td>gopdeb w deliv the highest rate in the histori...</td>\n",
       "      <td>[gopdeb, w, deliv, the, high, rate, in, the, h...</td>\n",
       "    </tr>\n",
       "  </tbody>\n",
       "</table>\n",
       "</div>"
      ],
      "text/plain": [
       "  sentiment                                               text  \\\n",
       "0   Neutral  RT @NancyLeeGrahn: How did everyone feel about...   \n",
       "1  Positive  RT @ScottWalker: Didn't catch the full #GOPdeb...   \n",
       "2   Neutral  RT @TJMShow: No mention of Tamir Rice and the ...   \n",
       "3  Positive  RT @RobGeorge: That Carly Fiorina is trending ...   \n",
       "4  Positive  RT @DanScavino: #GOPDebate w/ @realDonaldTrump...   \n",
       "\n",
       "   number_of_exclamation  number_of_questionmark  number_of_hashtag  \\\n",
       "0                      0                       1                  1   \n",
       "1                      0                       0                  2   \n",
       "2                      0                       1                  1   \n",
       "3                      0                       0                  1   \n",
       "4                      0                       0                  2   \n",
       "\n",
       "   number_of_mention  number_of_quotes  number_of_underscore  \\\n",
       "0                  1                 0                     0   \n",
       "1                  1                 2                     1   \n",
       "2                  1                 0                     0   \n",
       "3                  1                 1                     1   \n",
       "4                  2                 0                     1   \n",
       "\n",
       "   number_of_positive_emo  number_of_negative_emo  \\\n",
       "0                       0                       0   \n",
       "1                       0                       0   \n",
       "2                       0                       0   \n",
       "3                       0                       0   \n",
       "4                       0                       0   \n",
       "\n",
       "                                               tweet  \\\n",
       "0   how did everyone feel about the climate chang...   \n",
       "1   didnt catch the full gopdebate last night her...   \n",
       "2   no mention of tamir rice and the gopdebate wa...   \n",
       "3   that carly fiorina is trending  hours after h...   \n",
       "4   gopdebate w delivered the highest ratings in ...   \n",
       "\n",
       "                                          text_split  \\\n",
       "0  [how, did, everyone, feel, about, the, climate...   \n",
       "1  [didnt, catch, the, full, gopdebate, last, nig...   \n",
       "2  [no, mention, of, tamir, rice, and, the, gopde...   \n",
       "3  [that, carly, fiorina, is, trending, hours, af...   \n",
       "4  [gopdebate, w, delivered, the, highest, rating...   \n",
       "\n",
       "                                        text_stemmed  \\\n",
       "0  [how, did, everyon, feel, about, the, climat, ...   \n",
       "1  [didnt, catch, the, full, gopdeb, last, night,...   \n",
       "2  [no, mention, of, tamir, rice, and, the, gopde...   \n",
       "3  [that, carli, fiorina, is, trend, hour, after,...   \n",
       "4  [gopdeb, w, deliv, the, highest, rate, in, the...   \n",
       "\n",
       "                               text_stemmed_sentence  \\\n",
       "0  how did everyon feel about the climat chang qu...   \n",
       "1  didnt catch the full gopdeb last night here ar...   \n",
       "2  no mention of tamir rice and the gopdeb wa hel...   \n",
       "3  that carli fiorina is trend hour after her deb...   \n",
       "4  gopdeb w deliv the highest rate in the histori...   \n",
       "\n",
       "                                          lemmatized  \n",
       "0  [how, do, everyon, feel, about, the, climat, c...  \n",
       "1  [didnt, catch, the, full, gopdeb, last, night,...  \n",
       "2  [no, mention, of, tamir, rice, and, the, gopde...  \n",
       "3  [that, carli, fiorina, be, trend, hour, after,...  \n",
       "4  [gopdeb, w, deliv, the, high, rate, in, the, h...  "
      ]
     },
     "execution_count": 50,
     "metadata": {},
     "output_type": "execute_result"
    }
   ],
   "source": [
    "train_data.head()"
   ]
  },
  {
   "cell_type": "code",
   "execution_count": 51,
   "metadata": {},
   "outputs": [],
   "source": [
    "## BAG OF WORDS\n",
    "wordlist= []\n",
    "if os.path.isfile(\"wordlist.csv\"):\n",
    "    word_df = pd.read_csv(\"wordlist.csv\")\n",
    "    word_df = word_df[word_df[\"occurrences\"] > 3]\n",
    "    wordlist = list(word_df.loc[:, \"word\"])\n",
    "\n",
    "label_column = [\"label\"]\n",
    "columns = label_column + list(map(lambda w: w + \"_bow\",wordlist))\n",
    "labels = []\n",
    "rows = []\n",
    "for idx in train_data.index:\n",
    "    current_row = []\n",
    "        # add label\n",
    "    current_label = train_data.loc[idx, \"sentiment\"]\n",
    "    labels.append(current_label)\n",
    "    current_row.append(current_label)\n",
    "\n",
    "    # add bag-of-words\n",
    "    tokens = set(train_data.loc[idx, \"lemmatized\"])\n",
    "    for _, word in enumerate(wordlist):\n",
    "        current_row.append(1 if word in tokens else 0)\n",
    "\n",
    "    rows.append(current_row)\n",
    "\n",
    "data_model = pd.DataFrame(rows, columns=columns)\n",
    "data_labels = pd.Series(labels)\n",
    "\n"
   ]
  },
  {
   "cell_type": "code",
   "execution_count": 52,
   "metadata": {},
   "outputs": [],
   "source": [
    "dat1 = train_data\n",
    "dat2 = data_model\n",
    "\n",
    "\n",
    "dat1 = dat1.reset_index(drop=True)\n",
    "dat2 = dat2.reset_index(drop=True)\n",
    "\n",
    "data_model = dat1.join(dat2)"
   ]
  },
  {
   "cell_type": "code",
   "execution_count": 53,
   "metadata": {
    "scrolled": true
   },
   "outputs": [
    {
     "data": {
      "text/plain": [
       "Index(['sentiment', 'text', 'number_of_exclamation', 'number_of_questionmark',\n",
       "       'number_of_hashtag', 'number_of_mention', 'number_of_quotes',\n",
       "       'number_of_underscore', 'number_of_positive_emo',\n",
       "       'number_of_negative_emo', 'tweet', 'text_split', 'text_stemmed',\n",
       "       'text_stemmed_sentence', 'lemmatized'],\n",
       "      dtype='object')"
      ]
     },
     "execution_count": 53,
     "metadata": {},
     "output_type": "execute_result"
    }
   ],
   "source": [
    "train_data.columns"
   ]
  },
  {
   "cell_type": "code",
   "execution_count": 54,
   "metadata": {},
   "outputs": [],
   "source": [
    "## Drop the columns in data_model\n",
    "# data_model = data_model.drop(columns=['sentiment', 'text','text_split', 'text_stemmed','tweet',\n",
    "#        'text_stemmed_sentence', 'lemmatized','number_of_hashtag', 'number_of_mention', 'number_of_quotes',\n",
    "#        'number_of_underscore'], axis=1)\n",
    "data_model = data_model.drop(columns=['sentiment', 'text','text_split', 'text_stemmed','tweet',\n",
    "       'text_stemmed_sentence', 'lemmatized'], axis=1)\n"
   ]
  },
  {
   "cell_type": "code",
   "execution_count": 55,
   "metadata": {},
   "outputs": [
    {
     "data": {
      "text/html": [
       "<div>\n",
       "<style scoped>\n",
       "    .dataframe tbody tr th:only-of-type {\n",
       "        vertical-align: middle;\n",
       "    }\n",
       "\n",
       "    .dataframe tbody tr th {\n",
       "        vertical-align: top;\n",
       "    }\n",
       "\n",
       "    .dataframe thead th {\n",
       "        text-align: right;\n",
       "    }\n",
       "</style>\n",
       "<table border=\"1\" class=\"dataframe\">\n",
       "  <thead>\n",
       "    <tr style=\"text-align: right;\">\n",
       "      <th></th>\n",
       "      <th>number_of_exclamation</th>\n",
       "      <th>number_of_questionmark</th>\n",
       "      <th>number_of_hashtag</th>\n",
       "      <th>number_of_mention</th>\n",
       "      <th>number_of_quotes</th>\n",
       "      <th>number_of_underscore</th>\n",
       "      <th>number_of_positive_emo</th>\n",
       "      <th>number_of_negative_emo</th>\n",
       "      <th>label</th>\n",
       "      <th>gopdeb_bow</th>\n",
       "      <th>...</th>\n",
       "      <th>solidifi_bow</th>\n",
       "      <th>constitutiongopdeb_bow</th>\n",
       "      <th>hoe_bow</th>\n",
       "      <th>matur_bow</th>\n",
       "      <th>store_bow</th>\n",
       "      <th>chuteto_bow</th>\n",
       "      <th>politiciansboo_bow</th>\n",
       "      <th>ambival_bow</th>\n",
       "      <th>jebspeak_bow</th>\n",
       "      <th>labotomi_bow</th>\n",
       "    </tr>\n",
       "  </thead>\n",
       "  <tbody>\n",
       "    <tr>\n",
       "      <th>0</th>\n",
       "      <td>0</td>\n",
       "      <td>1</td>\n",
       "      <td>1</td>\n",
       "      <td>1</td>\n",
       "      <td>0</td>\n",
       "      <td>0</td>\n",
       "      <td>0</td>\n",
       "      <td>0</td>\n",
       "      <td>Neutral</td>\n",
       "      <td>1</td>\n",
       "      <td>...</td>\n",
       "      <td>0</td>\n",
       "      <td>0</td>\n",
       "      <td>0</td>\n",
       "      <td>0</td>\n",
       "      <td>0</td>\n",
       "      <td>0</td>\n",
       "      <td>0</td>\n",
       "      <td>0</td>\n",
       "      <td>0</td>\n",
       "      <td>0</td>\n",
       "    </tr>\n",
       "    <tr>\n",
       "      <th>1</th>\n",
       "      <td>0</td>\n",
       "      <td>0</td>\n",
       "      <td>2</td>\n",
       "      <td>1</td>\n",
       "      <td>2</td>\n",
       "      <td>1</td>\n",
       "      <td>0</td>\n",
       "      <td>0</td>\n",
       "      <td>Positive</td>\n",
       "      <td>1</td>\n",
       "      <td>...</td>\n",
       "      <td>0</td>\n",
       "      <td>0</td>\n",
       "      <td>0</td>\n",
       "      <td>0</td>\n",
       "      <td>0</td>\n",
       "      <td>0</td>\n",
       "      <td>0</td>\n",
       "      <td>0</td>\n",
       "      <td>0</td>\n",
       "      <td>0</td>\n",
       "    </tr>\n",
       "    <tr>\n",
       "      <th>2</th>\n",
       "      <td>0</td>\n",
       "      <td>1</td>\n",
       "      <td>1</td>\n",
       "      <td>1</td>\n",
       "      <td>0</td>\n",
       "      <td>0</td>\n",
       "      <td>0</td>\n",
       "      <td>0</td>\n",
       "      <td>Neutral</td>\n",
       "      <td>1</td>\n",
       "      <td>...</td>\n",
       "      <td>0</td>\n",
       "      <td>0</td>\n",
       "      <td>0</td>\n",
       "      <td>0</td>\n",
       "      <td>0</td>\n",
       "      <td>0</td>\n",
       "      <td>0</td>\n",
       "      <td>0</td>\n",
       "      <td>0</td>\n",
       "      <td>0</td>\n",
       "    </tr>\n",
       "    <tr>\n",
       "      <th>3</th>\n",
       "      <td>0</td>\n",
       "      <td>0</td>\n",
       "      <td>1</td>\n",
       "      <td>1</td>\n",
       "      <td>1</td>\n",
       "      <td>1</td>\n",
       "      <td>0</td>\n",
       "      <td>0</td>\n",
       "      <td>Positive</td>\n",
       "      <td>1</td>\n",
       "      <td>...</td>\n",
       "      <td>0</td>\n",
       "      <td>0</td>\n",
       "      <td>0</td>\n",
       "      <td>0</td>\n",
       "      <td>0</td>\n",
       "      <td>0</td>\n",
       "      <td>0</td>\n",
       "      <td>0</td>\n",
       "      <td>0</td>\n",
       "      <td>0</td>\n",
       "    </tr>\n",
       "    <tr>\n",
       "      <th>4</th>\n",
       "      <td>0</td>\n",
       "      <td>0</td>\n",
       "      <td>2</td>\n",
       "      <td>2</td>\n",
       "      <td>0</td>\n",
       "      <td>1</td>\n",
       "      <td>0</td>\n",
       "      <td>0</td>\n",
       "      <td>Positive</td>\n",
       "      <td>1</td>\n",
       "      <td>...</td>\n",
       "      <td>0</td>\n",
       "      <td>0</td>\n",
       "      <td>0</td>\n",
       "      <td>0</td>\n",
       "      <td>0</td>\n",
       "      <td>0</td>\n",
       "      <td>0</td>\n",
       "      <td>0</td>\n",
       "      <td>0</td>\n",
       "      <td>0</td>\n",
       "    </tr>\n",
       "  </tbody>\n",
       "</table>\n",
       "<p>5 rows × 2560 columns</p>\n",
       "</div>"
      ],
      "text/plain": [
       "   number_of_exclamation  number_of_questionmark  number_of_hashtag  \\\n",
       "0                      0                       1                  1   \n",
       "1                      0                       0                  2   \n",
       "2                      0                       1                  1   \n",
       "3                      0                       0                  1   \n",
       "4                      0                       0                  2   \n",
       "\n",
       "   number_of_mention  number_of_quotes  number_of_underscore  \\\n",
       "0                  1                 0                     0   \n",
       "1                  1                 2                     1   \n",
       "2                  1                 0                     0   \n",
       "3                  1                 1                     1   \n",
       "4                  2                 0                     1   \n",
       "\n",
       "   number_of_positive_emo  number_of_negative_emo     label  gopdeb_bow  \\\n",
       "0                       0                       0   Neutral           1   \n",
       "1                       0                       0  Positive           1   \n",
       "2                       0                       0   Neutral           1   \n",
       "3                       0                       0  Positive           1   \n",
       "4                       0                       0  Positive           1   \n",
       "\n",
       "       ...       solidifi_bow  constitutiongopdeb_bow  hoe_bow  matur_bow  \\\n",
       "0      ...                  0                       0        0          0   \n",
       "1      ...                  0                       0        0          0   \n",
       "2      ...                  0                       0        0          0   \n",
       "3      ...                  0                       0        0          0   \n",
       "4      ...                  0                       0        0          0   \n",
       "\n",
       "   store_bow  chuteto_bow  politiciansboo_bow  ambival_bow  jebspeak_bow  \\\n",
       "0          0            0                   0            0             0   \n",
       "1          0            0                   0            0             0   \n",
       "2          0            0                   0            0             0   \n",
       "3          0            0                   0            0             0   \n",
       "4          0            0                   0            0             0   \n",
       "\n",
       "   labotomi_bow  \n",
       "0             0  \n",
       "1             0  \n",
       "2             0  \n",
       "3             0  \n",
       "4             0  \n",
       "\n",
       "[5 rows x 2560 columns]"
      ]
     },
     "execution_count": 55,
     "metadata": {},
     "output_type": "execute_result"
    }
   ],
   "source": [
    "data_model.head()"
   ]
  },
  {
   "cell_type": "markdown",
   "metadata": {},
   "source": [
    "## Experiment 1: Added feature + Random Forest"
   ]
  },
  {
   "cell_type": "code",
   "execution_count": 56,
   "metadata": {},
   "outputs": [
    {
     "name": "stdout",
     "output_type": "stream",
     "text": [
      "\n",
      "---------------------------------------------------------\n",
      "Testing RandomForestClassifier\n",
      "Learing time 41.97654414176941s\n",
      "Predicting time 0.8436894416809082s\n",
      "=================== Results ===================\n",
      "            Negative     Neutral     Positive\n",
      "F1       [0.81915493 0.37510513 0.51477833]\n",
      "Precision[0.74819897 0.5        0.69205298]\n",
      "Recall   [0.90497925 0.30013459 0.40980392]\n",
      "Accuracy 0.7133497133497133\n",
      "===============================================\n"
     ]
    }
   ],
   "source": [
    "from sklearn.ensemble import RandomForestClassifier\n",
    "X_train, X_test, y_train, y_test = train_test_split(data_model.drop(columns='label',axis=1),data_model['label'] , test_size=0.3)\n",
    "precision, recall, accuracy, f1 = test_classifier(X_train, y_train, X_test, y_test, RandomForestClassifier(random_state=seed,n_estimators=403,n_jobs=-1))\n"
   ]
  },
  {
   "cell_type": "code",
   "execution_count": 57,
   "metadata": {
    "scrolled": true
   },
   "outputs": [
    {
     "name": "stdout",
     "output_type": "stream",
     "text": [
      "===============================================\n",
      "Crossvalidating RandomForestClassifier...\n",
      "Crosvalidation completed in 415.563595533371s\n",
      "Accuracy: [0.68717277 0.67824377 0.67365662 0.66644823 0.58060288 0.67562254\n",
      " 0.68676278 0.69639344]\n",
      "Average accuracy: 0.6681128807251708\n",
      "===============================================\n"
     ]
    }
   ],
   "source": [
    "rf_acc = cv(RandomForestClassifier(n_estimators=403,n_jobs=-1, random_state=seed),data_model.drop(columns='label',axis=1), data_model['label'])"
   ]
  },
  {
   "cell_type": "markdown",
   "metadata": {},
   "source": [
    "## Experiment 2: Added Feature + XGBoost"
   ]
  },
  {
   "cell_type": "code",
   "execution_count": 58,
   "metadata": {},
   "outputs": [],
   "source": [
    "from xgboost import XGBClassifier as XGBoostClassifier"
   ]
  },
  {
   "cell_type": "code",
   "execution_count": 59,
   "metadata": {
    "scrolled": false
   },
   "outputs": [
    {
     "name": "stdout",
     "output_type": "stream",
     "text": [
      "\n",
      "---------------------------------------------------------\n",
      "Testing XGBClassifier\n",
      "Learing time 292.3040671348572s\n",
      "Predicting time 0.8282027244567871s\n",
      "=================== Results ===================\n",
      "            Negative     Neutral     Positive\n",
      "F1       [0.80689061 0.0952381  0.37606838]\n",
      "Precision[0.68459515 0.55714286 0.76744186]\n",
      "Recall   [0.98238255 0.05206943 0.2490566 ]\n",
      "Accuracy 0.6860496860496861\n",
      "===============================================\n"
     ]
    }
   ],
   "source": [
    "X_train, X_test, y_train, y_test = train_test_split(data_model.drop(columns='label',axis=1),data_model['label'] , test_size=0.3)\n",
    "precision, recall, accuracy, f1 = test_classifier(X_train, y_train, X_test, y_test, XGBoostClassifier(seed=seed))"
   ]
  },
  {
   "cell_type": "markdown",
   "metadata": {},
   "source": [
    "## Experiment 3: Added Feature + Naive Bayes"
   ]
  },
  {
   "cell_type": "code",
   "execution_count": 60,
   "metadata": {},
   "outputs": [
    {
     "name": "stdout",
     "output_type": "stream",
     "text": [
      "\n",
      "---------------------------------------------------------\n",
      "Testing BernoulliNB\n",
      "Learing time 1.094020128250122s\n",
      "Predicting time 0.4218466281890869s\n",
      "=================== Results ===================\n",
      "            Negative     Neutral     Positive\n",
      "F1       [0.79001721 0.49484536 0.54421769]\n",
      "Precision[0.80845443 0.4573991  0.56      ]\n",
      "Recall   [0.77240219 0.53896962 0.52930057]\n",
      "Accuracy 0.689052689052689\n",
      "===============================================\n"
     ]
    }
   ],
   "source": [
    "X_train, X_test, y_train, y_test = train_test_split(data_model.drop(columns='label',axis=1),data_model['label'] , test_size=0.3)\n",
    "precision, recall, accuracy, f1 = test_classifier(X_train, y_train, X_test, y_test, BernoulliNB())"
   ]
  },
  {
   "cell_type": "markdown",
   "metadata": {},
   "source": [
    "## Test Data"
   ]
  },
  {
   "cell_type": "markdown",
   "metadata": {},
   "source": [
    "From the above experiments we can conclude that Random Forest gives better result than other models.As a result, if there is any seperate Test dataset, the Test Data will be classified on Random Forest following the pipeline before.\n",
    "preprocessing - doing experiments on Random Forest."
   ]
  },
  {
   "cell_type": "markdown",
   "metadata": {},
   "source": [
    "# Conclusion"
   ]
  },
  {
   "cell_type": "markdown",
   "metadata": {},
   "source": [
    "<font color=black size=4 face=\"times new roman\">The work presented in this document specifies an approach for <mark style=background-color:yellow>sentiment analysis on Twitter data. </mark><br />\n",
    "To unseal the sentiment, we extracted the relevant data from the texts, preprocessed the data including <mark style=background-color:yellow><font color=black size=4 face=\"times new roman\">cleaning <font> </mark>,<mark style=background-color:yellow><font color=black size=4 face=\"times new roman\">tokenizing</mark>,<mark style=background-color:yellow><font color=black size=4 face=\"times new roman\">stemming<font></mark>, <mark style=background-color:yellow><font color=black size=4 face=\"times new roman\">lemmatizating<font></mark>, <mark style=background-color:yellow><font color=black size=4 face=\"times new roman\">remove the stop words<font></mark>.<br />\n",
    "And then we added the features for the next process of modeling and implementing experiments.<br />\n",
    "<font color=black size=4 face=\"times new roman\">The experiment basically carried out several models to classify the emtion of the tweets. From the performance of the several experiment, Random Forest with added-features gave out a better performance than others, which has a accuracy of 0.71. <p>\n",
    "\n",
    "\n",
    "\n",
    "\n"
   ]
  },
  {
   "cell_type": "markdown",
   "metadata": {},
   "source": [
    "# problems"
   ]
  },
  {
   "cell_type": "markdown",
   "metadata": {},
   "source": [
    "<font color=black size=4 face=\"times new roman\">However, several problems still exsist.<br />\n",
    "·Simple bag-of-words was definitely not enough to obtain satisfying results, thus a lot of additional features were created basing on common sense (number of emoticons, exclamation marks, number of question mark etc).<br />\n",
    "  The graphs of the distributions of the Added features seem to suggest those feature may have influence on the classification. However, the performances of the one with added-features are almost the same or even worse.The possible reason may be that the dataset included highly skewed data (a relatively smaller number of positive cases), the difference will be probably in the order of a few percents. Solutions need to be find out to improve the skewed data,such as changing the weight.<p>\n",
    "·Furthermore, the emoticions might need to be take into consideration seperately. <br />\n",
    "  The emoticions cannot be shown in the output correctly. One possible reason might be the encoding of the file is not utf-8. When reading the csv file, the parameter encoding is set to 'escape unicode'.Then the emoticions cannot be showned correctly. Due to the limitation of time and the unreadable display of the emoticons, the way used in the demo of \"AlineSentimentAnalysis\"(https://github.com/SangitaG/AirlineSentimentAnalysis) is still not implement in this experiment.\n"
   ]
  },
  {
   "cell_type": "markdown",
   "metadata": {},
   "source": [
    "## Reference\n",
    "·https://github.com/abdulfatir/twitter-sentiment-analysis <br />\n",
    "·https://github.com/SangitaG/AirlineSentimentAnalysis <br />\n",
    "·https://github.com/ajayshewale/Sentiment-Analysis-of-Text-Data-Tweets- <br />\n"
   ]
  },
  {
   "cell_type": "code",
   "execution_count": null,
   "metadata": {},
   "outputs": [],
   "source": []
  }
 ],
 "metadata": {
  "kernelspec": {
   "display_name": "Python 3",
   "language": "python",
   "name": "python3"
  },
  "language_info": {
   "codemirror_mode": {
    "name": "ipython",
    "version": 3
   },
   "file_extension": ".py",
   "mimetype": "text/x-python",
   "name": "python",
   "nbconvert_exporter": "python",
   "pygments_lexer": "ipython3",
   "version": "3.7.3"
  }
 },
 "nbformat": 4,
 "nbformat_minor": 2
}
